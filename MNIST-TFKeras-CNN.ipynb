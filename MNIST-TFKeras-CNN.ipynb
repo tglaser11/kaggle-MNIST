{
 "cells": [
  {
   "cell_type": "code",
   "execution_count": 1,
   "metadata": {
    "collapsed": false
   },
   "outputs": [
    {
     "name": "stderr",
     "output_type": "stream",
     "text": [
      "Using TensorFlow backend.\n"
     ]
    }
   ],
   "source": [
    "import numpy\n",
    "from keras.models import Sequential\n",
    "from keras.layers.core import Dense, Dropout, Activation, Flatten\n",
    "from keras.layers.convolutional import Convolution2D, MaxPooling2D,ZeroPadding2D\n",
    "from keras.optimizers import SGD\n",
    "from keras.utils import np_utils\n",
    "\n",
    "#from keras import backend as K\n",
    "#K.set_image_dim_ordering('tf')"
   ]
  },
  {
   "cell_type": "code",
   "execution_count": 2,
   "metadata": {
    "collapsed": false
   },
   "outputs": [
    {
     "name": "stdout",
     "output_type": "stream",
     "text": [
      "X_train shape: (60000, 28, 28)\n",
      "60000 train samples\n",
      "10000 test samples\n"
     ]
    }
   ],
   "source": [
    "from keras.datasets import mnist\n",
    "\n",
    "(X_train, y_train), (X_test, y_test) = mnist.load_data()\n",
    "\n",
    "print('X_train shape:', X_train.shape)\n",
    "print(X_train.shape[0], 'train samples')\n",
    "print(X_test.shape[0], 'test samples')"
   ]
  },
  {
   "cell_type": "code",
   "execution_count": 3,
   "metadata": {
    "collapsed": false
   },
   "outputs": [],
   "source": [
    "# Each image is a 28x28 pixel image with one color layer \n",
    "image_rows=28\n",
    "image_cols=28\n",
    "channels=1\n",
    "\n",
    "# Need to flatten to 784 element vector\n",
    "# reshape to be [samples][channels][width][height]\n",
    "X_train = X_train.reshape(X_train.shape[0], image_rows, image_cols, channels).astype('float32')\n",
    "X_test = X_test.reshape(X_test.shape[0], image_rows, image_cols, channels).astype('float32')\n",
    "\n",
    "# Images represent a vector of 784 float values ranging from 0-255.\n",
    "# Need to normalize inputs to standard scale 0-1\n",
    "X_train = X_train / 255\n",
    "X_test = X_test / 255\n",
    "\n",
    "# Each Y category is represnted as a 0-9 scalar\n",
    "# Best practice to one hot encode\n",
    "y_train = np_utils.to_categorical(y_train)\n",
    "y_test = np_utils.to_categorical(y_test)\n",
    "num_classes = y_test.shape[1]"
   ]
  },
  {
   "cell_type": "code",
   "execution_count": 4,
   "metadata": {
    "collapsed": true
   },
   "outputs": [],
   "source": [
    "def CNN_model(channels, image_rows, image_cols):\n",
    "    model = Sequential()\n",
    "    \n",
    "    # Hidden layer 1 - Convolution layer\n",
    "    model.add(Convolution2D(32, 5, 5, border_mode='valid', input_shape = (image_rows, image_cols, channels)))\n",
    "    model.add(Activation('relu'))\n",
    "    model.add(MaxPooling2D(pool_size=(2, 2)))\n",
    "    model.add(Dropout(0.2))\n",
    " \n",
    "    # Hidden layer 2 - Fully connected layer\n",
    "    model.add(Flatten())\n",
    "    model.add(Dense(128))\n",
    "    model.add(Activation('relu'))\n",
    "    \n",
    "    # Output layer\n",
    "    model.add(Dense(num_classes))\n",
    "    model.add(Activation('softmax'))\n",
    "    \n",
    "    \n",
    "    model.compile(loss='categorical_crossentropy', optimizer='adam', metrics=['accuracy'])\n",
    "    \n",
    "    return model\n"
   ]
  },
  {
   "cell_type": "code",
   "execution_count": 5,
   "metadata": {
    "collapsed": false
   },
   "outputs": [],
   "source": [
    "batch_size = 200\n",
    "nb_epoch = 10\n",
    "random_state = 46\n",
    "\n",
    "model = CNN_model(channels, image_rows, image_cols)"
   ]
  },
  {
   "cell_type": "code",
   "execution_count": 6,
   "metadata": {
    "collapsed": false
   },
   "outputs": [
    {
     "name": "stdout",
     "output_type": "stream",
     "text": [
      "Train on 60000 samples, validate on 10000 samples\n",
      "Epoch 1/10\n",
      "6s - loss: 0.2580 - acc: 0.9261 - val_loss: 0.0742 - val_acc: 0.9776\n",
      "Epoch 2/10\n",
      "5s - loss: 0.0766 - acc: 0.9773 - val_loss: 0.0534 - val_acc: 0.9838\n",
      "Epoch 3/10\n",
      "5s - loss: 0.0539 - acc: 0.9834 - val_loss: 0.0448 - val_acc: 0.9853\n",
      "Epoch 4/10\n",
      "5s - loss: 0.0413 - acc: 0.9876 - val_loss: 0.0400 - val_acc: 0.9877\n",
      "Epoch 5/10\n",
      "5s - loss: 0.0343 - acc: 0.9892 - val_loss: 0.0478 - val_acc: 0.9862\n",
      "Epoch 6/10\n",
      "5s - loss: 0.0293 - acc: 0.9907 - val_loss: 0.0321 - val_acc: 0.9895\n",
      "Epoch 7/10\n",
      "5s - loss: 0.0249 - acc: 0.9919 - val_loss: 0.0359 - val_acc: 0.9876\n",
      "Epoch 8/10\n",
      "5s - loss: 0.0219 - acc: 0.9925 - val_loss: 0.0333 - val_acc: 0.9901\n",
      "Epoch 9/10\n",
      "5s - loss: 0.0178 - acc: 0.9942 - val_loss: 0.0329 - val_acc: 0.9893\n",
      "Epoch 10/10\n",
      "5s - loss: 0.0154 - acc: 0.9949 - val_loss: 0.0355 - val_acc: 0.9898\n"
     ]
    },
    {
     "data": {
      "text/plain": [
       "<keras.callbacks.History at 0x7f3a64c715f8>"
      ]
     },
     "execution_count": 6,
     "metadata": {},
     "output_type": "execute_result"
    }
   ],
   "source": [
    "model.fit(X_train, y_train, validation_data=(X_test, y_test), batch_size=batch_size, nb_epoch=nb_epoch, verbose=2)"
   ]
  },
  {
   "cell_type": "code",
   "execution_count": 7,
   "metadata": {
    "collapsed": false
   },
   "outputs": [
    {
     "name": "stdout",
     "output_type": "stream",
     "text": [
      "Baseline Error: 1.13%\n"
     ]
    }
   ],
   "source": [
    "# Final evaluation of the model\n",
    "scores = model.evaluate(X_test, y_test, verbose=0)\n",
    "print(\"Baseline Error: %.2f%%\" % (100-scores[1]*100))"
   ]
  },
  {
   "cell_type": "code",
   "execution_count": null,
   "metadata": {
    "collapsed": true
   },
   "outputs": [],
   "source": []
  }
 ],
 "metadata": {
  "kernelspec": {
   "display_name": "Python 3",
   "language": "python",
   "name": "python3"
  },
  "language_info": {
   "codemirror_mode": {
    "name": "ipython",
    "version": 3
   },
   "file_extension": ".py",
   "mimetype": "text/x-python",
   "name": "python",
   "nbconvert_exporter": "python",
   "pygments_lexer": "ipython3",
   "version": "3.6.0"
  }
 },
 "nbformat": 4,
 "nbformat_minor": 0
}
