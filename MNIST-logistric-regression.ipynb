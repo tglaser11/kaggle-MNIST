{
 "cells": [
  {
   "cell_type": "code",
   "execution_count": 1,
   "metadata": {
    "collapsed": false
   },
   "outputs": [
    {
     "data": {
      "text/plain": [
       "'\\nLogistic Regression Model using TensorFlow\\nUsed to predict categories based upon feature data\\n\\nRelies on multivariate linear regression model coupled with softmax activation (logit function)\\nto predict categories\\n\\n'"
      ]
     },
     "execution_count": 1,
     "metadata": {},
     "output_type": "execute_result"
    }
   ],
   "source": [
    "'''\n",
    "Logistic Regression Model using TensorFlow\n",
    "Used to predict categories based upon feature data\n",
    "\n",
    "Relies on multivariate linear regression model coupled with softmax activation (logit function)\n",
    "to predict categories\n",
    "\n",
    "'''"
   ]
  },
  {
   "cell_type": "code",
   "execution_count": 2,
   "metadata": {
    "collapsed": true
   },
   "outputs": [],
   "source": [
    "import tensorflow as tf\n",
    "\n",
    "# Play with MNIST data set\n",
    "from tensorflow.examples.tutorials.mnist import input_data"
   ]
  },
  {
   "cell_type": "code",
   "execution_count": 3,
   "metadata": {
    "collapsed": true
   },
   "outputs": [],
   "source": [
    "DATA_DIR = '/tmp/data'\n",
    "\n",
    "# Define number of training runs for the model.\n",
    "NUM_STEPS = 1000\n",
    "MINIBATCH_SIZE = 100"
   ]
  },
  {
   "cell_type": "code",
   "execution_count": 4,
   "metadata": {
    "collapsed": false
   },
   "outputs": [
    {
     "name": "stdout",
     "output_type": "stream",
     "text": [
      "Successfully downloaded train-images-idx3-ubyte.gz 9912422 bytes.\n",
      "Extracting /tmp/data/train-images-idx3-ubyte.gz\n",
      "Successfully downloaded train-labels-idx1-ubyte.gz 28881 bytes.\n",
      "Extracting /tmp/data/train-labels-idx1-ubyte.gz\n",
      "Successfully downloaded t10k-images-idx3-ubyte.gz 1648877 bytes.\n",
      "Extracting /tmp/data/t10k-images-idx3-ubyte.gz\n",
      "Successfully downloaded t10k-labels-idx1-ubyte.gz 4542 bytes.\n",
      "Extracting /tmp/data/t10k-labels-idx1-ubyte.gz\n"
     ]
    },
    {
     "data": {
      "text/plain": [
       "Datasets(train=<tensorflow.contrib.learn.python.learn.datasets.mnist.DataSet object at 0x7f8d580d64a8>, validation=<tensorflow.contrib.learn.python.learn.datasets.mnist.DataSet object at 0x7f8d01294f98>, test=<tensorflow.contrib.learn.python.learn.datasets.mnist.DataSet object at 0x7f8d01294e80>)"
      ]
     },
     "execution_count": 4,
     "metadata": {},
     "output_type": "execute_result"
    }
   ],
   "source": [
    "# Download data and save it locally; label the data using one hot encoding\n",
    "data = input_data.read_data_sets(DATA_DIR, one_hot=True)\n",
    "data"
   ]
  },
  {
   "cell_type": "code",
   "execution_count": 6,
   "metadata": {
    "collapsed": false
   },
   "outputs": [],
   "source": [
    "# DEFINE MODEL\n",
    "\n",
    "# \"placeholders\" are input tensor parameters for a model that get initialized by our session\n",
    "# x is our matrix of features (pixels)\n",
    "# each image is a 28x28 pixel image.  Images represent a vector of 784 float values ranging from 0-255.\n",
    "x = tf.placeholder(tf.float32, [None, 784], name='inputs')\n",
    "\n",
    "# y is reserved for labels of data set\n",
    "y_true = tf.placeholder(tf.float32, [None, 10], name='true_values')\n",
    "\n",
    "# \"Variables\" are mutable objects that save state with each session run\n",
    "# Need 784x10 weight values corresponding to connections between input nodes (784) and output nodes (10)\n",
    "W = tf.Variable(tf.zeros([784, 10]), name='weights')\n",
    "\n",
    "# use linear regression model; use TF matrix multiplicaiton to form our predictions\n",
    "y_pred = tf.matmul(x, W, name='predicted_values')\n",
    "\n",
    "\n",
    "# train model by comparing predictions with true labels\n",
    "# use softmax cross entropy objective function to calculate differences\n",
    "# calculate the mean error across all 10 categories \n",
    "\n",
    "cross_entropy = tf.reduce_mean(tf.nn.softmax_cross_entropy_with_logits(logits=y_pred, labels=y_true))\n",
    "\n",
    "# use gradient descent optimizer to find optimal values to minimize error\n",
    "# minimize function takes in tensor to minimize as its argument\n",
    "gd_step = tf.train.GradientDescentOptimizer(0.5).minimize(cross_entropy)\n",
    "\n",
    "# define our evaluation\n",
    "# tf.argmax returns index of highest value across a given axis\n",
    "# tf.equal evaluates and returns a boolean\n",
    "correct_mask = tf.equal(tf.argmax(y_pred, 1), tf.argmax(y_true, 1))\n",
    "accuracy = tf.reduce_mean(tf.cast(correct_mask, tf.float32))\n"
   ]
  },
  {
   "cell_type": "code",
   "execution_count": 12,
   "metadata": {
    "collapsed": false
   },
   "outputs": [
    {
     "name": "stdout",
     "output_type": "stream",
     "text": [
      "WARNING:tensorflow:From <ipython-input-12-d9d9070ebf43>:14: initialize_all_variables (from tensorflow.python.ops.variables) is deprecated and will be removed after 2017-03-02.\n",
      "Instructions for updating:\n",
      "Use `tf.global_variables_initializer` instead.\n"
     ]
    }
   ],
   "source": [
    "with tf.Session() as sess:\n",
    "    \n",
    "    # Train our weights by running our computational graph model    \n",
    "    \n",
    "    # Create TensorBoard Output\n",
    "    # Save TF graph; log cost function output;\n",
    "    tf.train.write_graph(sess.graph, '.','graph.pbtxt')\n",
    "    # cost_op = tf.scalar_summary(\"loss\", cross_entropy) \n",
    "    cost_op = tf.summary.scalar(\"loss\", cross_entropy) \n",
    "    # merged = tf.merge_all_summaries() \n",
    "    merged = tf.summary.merge_all()\n",
    "    \n",
    "    # Initialize variables\n",
    "    sess.run(tf.initialize_all_variables())\n",
    "    writer = tf.summary.FileWriter('.', sess.graph) \n",
    "\n",
    "    # Perform training\n",
    "    for i in range(NUM_STEPS):\n",
    "        batch_xs, batch_ys = data.train.next_batch(MINIBATCH_SIZE)\n",
    "        sess.run(gd_step, feed_dict={x: batch_xs, y_true: batch_ys})\n",
    "        \n",
    "        # Collect loss metrics for TF Board\n",
    "        summary_str = sess.run(cost_op, feed_dict={x: batch_xs, y_true: batch_ys})\n",
    "        writer.add_summary(summary_str, i) \n",
    "    \n",
    "    # Run our evaluation now that model (weights) have been trained; feed parameters: test data and labels\n",
    "    ans = sess.run(accuracy, feed_dict={x: data.test.images, y_true: data.test.labels})\n",
    "        "
   ]
  },
  {
   "cell_type": "code",
   "execution_count": 15,
   "metadata": {
    "collapsed": false
   },
   "outputs": [
    {
     "name": "stdout",
     "output_type": "stream",
     "text": [
      "Accuracy: 91.65%\n"
     ]
    }
   ],
   "source": [
    "print(\"Accuracy: {:.4}%\".format(ans*100))"
   ]
  },
  {
   "cell_type": "code",
   "execution_count": null,
   "metadata": {
    "collapsed": true
   },
   "outputs": [],
   "source": []
  }
 ],
 "metadata": {
  "kernelspec": {
   "display_name": "Python 3",
   "language": "python",
   "name": "python3"
  },
  "language_info": {
   "codemirror_mode": {
    "name": "ipython",
    "version": 3
   },
   "file_extension": ".py",
   "mimetype": "text/x-python",
   "name": "python",
   "nbconvert_exporter": "python",
   "pygments_lexer": "ipython3",
   "version": "3.6.0"
  }
 },
 "nbformat": 4,
 "nbformat_minor": 0
}
