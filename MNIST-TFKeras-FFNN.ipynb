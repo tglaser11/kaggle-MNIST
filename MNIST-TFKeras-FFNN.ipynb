{
 "cells": [
  {
   "cell_type": "code",
   "execution_count": 1,
   "metadata": {
    "collapsed": false
   },
   "outputs": [
    {
     "name": "stderr",
     "output_type": "stream",
     "text": [
      "Using TensorFlow backend.\n"
     ]
    }
   ],
   "source": [
    "import numpy\n",
    "from keras.models import Sequential\n",
    "from keras.layers import Dense\n",
    "from keras.layers import Dropout\n",
    "from keras.utils import np_utils"
   ]
  },
  {
   "cell_type": "code",
   "execution_count": 2,
   "metadata": {
    "collapsed": false
   },
   "outputs": [
    {
     "name": "stdout",
     "output_type": "stream",
     "text": [
      "X_train shape: (60000, 28, 28)\n",
      "60000 train samples\n",
      "10000 test samples\n"
     ]
    }
   ],
   "source": [
    "from keras.datasets import mnist\n",
    "\n",
    "(X_train, y_train), (X_test, y_test) = mnist.load_data()\n",
    "\n",
    "print('X_train shape:', X_train.shape)\n",
    "print(X_train.shape[0], 'train samples')\n",
    "print(X_test.shape[0], 'test samples')"
   ]
  },
  {
   "cell_type": "code",
   "execution_count": 3,
   "metadata": {
    "collapsed": false
   },
   "outputs": [],
   "source": [
    "# Show first records\n",
    "# X_train[0]\n",
    "# y_train[0:5]"
   ]
  },
  {
   "cell_type": "code",
   "execution_count": 4,
   "metadata": {
    "collapsed": false
   },
   "outputs": [],
   "source": [
    "# Each image is a 28x28 pixel image represented as a rank 2 matrix.\n",
    "# Need to flatten to 784 element vector\n",
    "num_pixels = 784\n",
    "X_train = X_train.reshape(X_train.shape[0], num_pixels).astype('float32')\n",
    "X_test = X_test.reshape(X_test.shape[0], num_pixels).astype('float32')\n",
    "\n",
    "# Images represent a vector of 784 float values ranging from 0-255.\n",
    "# Need to normalize inputs to standard scale 0-1\n",
    "X_train = X_train / 255\n",
    "X_test = X_test / 255\n",
    "\n",
    "# Each Y category is represnted as a 0-9 scalar\n",
    "# Best practice to one hot encode\n",
    "y_train = np_utils.to_categorical(y_train)\n",
    "y_test = np_utils.to_categorical(y_test)\n",
    "num_classes = y_test.shape[1]"
   ]
  },
  {
   "cell_type": "code",
   "execution_count": 5,
   "metadata": {
    "collapsed": false
   },
   "outputs": [],
   "source": [
    "# y_train[0:5]"
   ]
  },
  {
   "cell_type": "code",
   "execution_count": 6,
   "metadata": {
    "collapsed": true
   },
   "outputs": [],
   "source": [
    "seed = 42\n",
    "numpy.random.seed(seed)"
   ]
  },
  {
   "cell_type": "code",
   "execution_count": 7,
   "metadata": {
    "collapsed": false
   },
   "outputs": [],
   "source": [
    "def FF_model():\n",
    "    # create model\n",
    "    model = Sequential()\n",
    "    model.add(Dense(256, input_dim=num_pixels, init='normal', activation='relu'))\n",
    "    model.add(Dense(num_classes, init='normal', activation='softmax'))\n",
    "    # Compile model\n",
    "    model.compile(loss='categorical_crossentropy', optimizer='adam', metrics=['accuracy'])\n",
    "    return model"
   ]
  },
  {
   "cell_type": "code",
   "execution_count": 8,
   "metadata": {
    "collapsed": false
   },
   "outputs": [
    {
     "name": "stdout",
     "output_type": "stream",
     "text": [
      "Train on 60000 samples, validate on 10000 samples\n",
      "Epoch 1/10\n",
      "2s - loss: 0.3926 - acc: 0.8963 - val_loss: 0.1964 - val_acc: 0.9424\n",
      "Epoch 2/10\n",
      "2s - loss: 0.1613 - acc: 0.9540 - val_loss: 0.1314 - val_acc: 0.9624\n",
      "Epoch 3/10\n",
      "2s - loss: 0.1140 - acc: 0.9678 - val_loss: 0.1034 - val_acc: 0.9685\n",
      "Epoch 4/10\n",
      "2s - loss: 0.0863 - acc: 0.9750 - val_loss: 0.0903 - val_acc: 0.9735\n",
      "Epoch 5/10\n",
      "2s - loss: 0.0682 - acc: 0.9805 - val_loss: 0.0829 - val_acc: 0.9760\n",
      "Epoch 6/10\n",
      "2s - loss: 0.0546 - acc: 0.9846 - val_loss: 0.0737 - val_acc: 0.9758\n",
      "Epoch 7/10\n",
      "2s - loss: 0.0440 - acc: 0.9880 - val_loss: 0.0700 - val_acc: 0.9782\n",
      "Epoch 8/10\n",
      "2s - loss: 0.0365 - acc: 0.9905 - val_loss: 0.0676 - val_acc: 0.9784\n",
      "Epoch 9/10\n",
      "2s - loss: 0.0300 - acc: 0.9923 - val_loss: 0.0637 - val_acc: 0.9800\n",
      "Epoch 10/10\n",
      "2s - loss: 0.0248 - acc: 0.9939 - val_loss: 0.0642 - val_acc: 0.9795\n",
      "Baseline Error: 2.05%\n"
     ]
    }
   ],
   "source": [
    "model = FF_model()\n",
    "# Fit the model\n",
    "model.fit(X_train, y_train, validation_data=(X_test, y_test), nb_epoch=10, batch_size=200, verbose=2)\n",
    "# Final evaluation of the model\n",
    "scores = model.evaluate(X_test, y_test, verbose=0)\n",
    "print(\"Baseline Error: %.2f%%\" % (100-scores[1]*100))"
   ]
  },
  {
   "cell_type": "code",
   "execution_count": 9,
   "metadata": {
    "collapsed": false
   },
   "outputs": [
    {
     "name": "stdout",
     "output_type": "stream",
     "text": [
      "Saved model to disk\n"
     ]
    }
   ],
   "source": [
    "# Once we like our model and training results, \n",
    "# serialize model to JSON for other apps to use\n",
    "model_json = model.to_json()\n",
    "with open(\"./models/model.json\", \"w\") as json_file:\n",
    "    json_file.write(model_json)\n",
    "\n",
    "# serialize weights to HDF5\n",
    "model.save_weights(\"./models/weights.h5\")\n",
    "print(\"Saved model to disk\")"
   ]
  },
  {
   "cell_type": "code",
   "execution_count": null,
   "metadata": {
    "collapsed": true
   },
   "outputs": [],
   "source": []
  }
 ],
 "metadata": {
  "kernelspec": {
   "display_name": "Python 3",
   "language": "python",
   "name": "python3"
  },
  "language_info": {
   "codemirror_mode": {
    "name": "ipython",
    "version": 3
   },
   "file_extension": ".py",
   "mimetype": "text/x-python",
   "name": "python",
   "nbconvert_exporter": "python",
   "pygments_lexer": "ipython3",
   "version": "3.6.0"
  }
 },
 "nbformat": 4,
 "nbformat_minor": 0
}
